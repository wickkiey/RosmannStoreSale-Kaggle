{
 "metadata": {
  "language_info": {
   "codemirror_mode": {
    "name": "ipython",
    "version": 3
   },
   "file_extension": ".py",
   "mimetype": "text/x-python",
   "name": "python",
   "nbconvert_exporter": "python",
   "pygments_lexer": "ipython3",
   "version": "3.7.6-final"
  },
  "orig_nbformat": 2,
  "kernelspec": {
   "name": "python3",
   "display_name": "Python 3.7.6 64-bit ('deepcpu': conda)",
   "metadata": {
    "interpreter": {
     "hash": "225e9c3dad8bdaa08775d424574c5a097d8974f53246e85eec604db0c0bf068c"
    }
   }
  }
 },
 "nbformat": 4,
 "nbformat_minor": 2,
 "cells": [
  {
   "source": [
    "Rosmann Store Sales Prediction - Kaggle"
   ],
   "cell_type": "markdown",
   "metadata": {}
  },
  {
   "cell_type": "code",
   "execution_count": 2,
   "metadata": {},
   "outputs": [],
   "source": [
    "import pandas as pd\n",
    "import numpy as np\n",
    "\n"
   ]
  },
  {
   "source": [
    "## Load Data"
   ],
   "cell_type": "markdown",
   "metadata": {}
  },
  {
   "cell_type": "code",
   "execution_count": 9,
   "metadata": {},
   "outputs": [
    {
     "output_type": "stream",
     "name": "stderr",
     "text": [
      "C:\\Users\\Vivek.ananthan\\Anaconda3\\envs\\deepcpu\\lib\\site-packages\\IPython\\core\\interactiveshell.py:3063: DtypeWarning: Columns (7) have mixed types.Specify dtype option on import or set low_memory=False.\n  interactivity=interactivity, compiler=compiler, result=result)\n"
     ]
    }
   ],
   "source": [
    "train = pd.read_csv(\"data/train.csv\")\n",
    "test = pd.read_csv(\"data/test.csv\")\n",
    "store = pd.read_csv(\"data/store.csv\")"
   ]
  },
  {
   "cell_type": "code",
   "execution_count": 10,
   "metadata": {},
   "outputs": [
    {
     "output_type": "execute_result",
     "data": {
      "text/plain": [
       "                   count         mean          std  min     25%     50%  \\\n",
       "Store          1017209.0   558.429727   321.908651  1.0   280.0   558.0   \n",
       "DayOfWeek      1017209.0     3.998341     1.997391  1.0     2.0     4.0   \n",
       "Sales          1017209.0  5773.818972  3849.926175  0.0  3727.0  5744.0   \n",
       "Customers      1017209.0   633.145946   464.411734  0.0   405.0   609.0   \n",
       "Open           1017209.0     0.830107     0.375539  0.0     1.0     1.0   \n",
       "Promo          1017209.0     0.381515     0.485759  0.0     0.0     0.0   \n",
       "SchoolHoliday  1017209.0     0.178647     0.383056  0.0     0.0     0.0   \n",
       "\n",
       "                  75%      max  \n",
       "Store           838.0   1115.0  \n",
       "DayOfWeek         6.0      7.0  \n",
       "Sales          7856.0  41551.0  \n",
       "Customers       837.0   7388.0  \n",
       "Open              1.0      1.0  \n",
       "Promo             1.0      1.0  \n",
       "SchoolHoliday     0.0      1.0  "
      ],
      "text/html": "<div>\n<style scoped>\n    .dataframe tbody tr th:only-of-type {\n        vertical-align: middle;\n    }\n\n    .dataframe tbody tr th {\n        vertical-align: top;\n    }\n\n    .dataframe thead th {\n        text-align: right;\n    }\n</style>\n<table border=\"1\" class=\"dataframe\">\n  <thead>\n    <tr style=\"text-align: right;\">\n      <th></th>\n      <th>count</th>\n      <th>mean</th>\n      <th>std</th>\n      <th>min</th>\n      <th>25%</th>\n      <th>50%</th>\n      <th>75%</th>\n      <th>max</th>\n    </tr>\n  </thead>\n  <tbody>\n    <tr>\n      <th>Store</th>\n      <td>1017209.0</td>\n      <td>558.429727</td>\n      <td>321.908651</td>\n      <td>1.0</td>\n      <td>280.0</td>\n      <td>558.0</td>\n      <td>838.0</td>\n      <td>1115.0</td>\n    </tr>\n    <tr>\n      <th>DayOfWeek</th>\n      <td>1017209.0</td>\n      <td>3.998341</td>\n      <td>1.997391</td>\n      <td>1.0</td>\n      <td>2.0</td>\n      <td>4.0</td>\n      <td>6.0</td>\n      <td>7.0</td>\n    </tr>\n    <tr>\n      <th>Sales</th>\n      <td>1017209.0</td>\n      <td>5773.818972</td>\n      <td>3849.926175</td>\n      <td>0.0</td>\n      <td>3727.0</td>\n      <td>5744.0</td>\n      <td>7856.0</td>\n      <td>41551.0</td>\n    </tr>\n    <tr>\n      <th>Customers</th>\n      <td>1017209.0</td>\n      <td>633.145946</td>\n      <td>464.411734</td>\n      <td>0.0</td>\n      <td>405.0</td>\n      <td>609.0</td>\n      <td>837.0</td>\n      <td>7388.0</td>\n    </tr>\n    <tr>\n      <th>Open</th>\n      <td>1017209.0</td>\n      <td>0.830107</td>\n      <td>0.375539</td>\n      <td>0.0</td>\n      <td>1.0</td>\n      <td>1.0</td>\n      <td>1.0</td>\n      <td>1.0</td>\n    </tr>\n    <tr>\n      <th>Promo</th>\n      <td>1017209.0</td>\n      <td>0.381515</td>\n      <td>0.485759</td>\n      <td>0.0</td>\n      <td>0.0</td>\n      <td>0.0</td>\n      <td>1.0</td>\n      <td>1.0</td>\n    </tr>\n    <tr>\n      <th>SchoolHoliday</th>\n      <td>1017209.0</td>\n      <td>0.178647</td>\n      <td>0.383056</td>\n      <td>0.0</td>\n      <td>0.0</td>\n      <td>0.0</td>\n      <td>0.0</td>\n      <td>1.0</td>\n    </tr>\n  </tbody>\n</table>\n</div>"
     },
     "metadata": {},
     "execution_count": 10
    }
   ],
   "source": [
    "train.describe().T"
   ]
  },
  {
   "cell_type": "code",
   "execution_count": 11,
   "metadata": {},
   "outputs": [
    {
     "output_type": "execute_result",
     "data": {
      "text/plain": [
       "                            count         mean          std     min     25%  \\\n",
       "Store                      1115.0   558.000000   322.017080     1.0   279.5   \n",
       "CompetitionDistance        1112.0  5404.901079  7663.174720    20.0   717.5   \n",
       "CompetitionOpenSinceMonth   761.0     7.224704     3.212348     1.0     4.0   \n",
       "CompetitionOpenSinceYear    761.0  2008.668857     6.195983  1900.0  2006.0   \n",
       "Promo2                     1115.0     0.512108     0.500078     0.0     0.0   \n",
       "Promo2SinceWeek             571.0    23.595447    14.141984     1.0    13.0   \n",
       "Promo2SinceYear             571.0  2011.763573     1.674935  2009.0  2011.0   \n",
       "\n",
       "                              50%     75%      max  \n",
       "Store                       558.0   836.5   1115.0  \n",
       "CompetitionDistance        2325.0  6882.5  75860.0  \n",
       "CompetitionOpenSinceMonth     8.0    10.0     12.0  \n",
       "CompetitionOpenSinceYear   2010.0  2013.0   2015.0  \n",
       "Promo2                        1.0     1.0      1.0  \n",
       "Promo2SinceWeek              22.0    37.0     50.0  \n",
       "Promo2SinceYear            2012.0  2013.0   2015.0  "
      ],
      "text/html": "<div>\n<style scoped>\n    .dataframe tbody tr th:only-of-type {\n        vertical-align: middle;\n    }\n\n    .dataframe tbody tr th {\n        vertical-align: top;\n    }\n\n    .dataframe thead th {\n        text-align: right;\n    }\n</style>\n<table border=\"1\" class=\"dataframe\">\n  <thead>\n    <tr style=\"text-align: right;\">\n      <th></th>\n      <th>count</th>\n      <th>mean</th>\n      <th>std</th>\n      <th>min</th>\n      <th>25%</th>\n      <th>50%</th>\n      <th>75%</th>\n      <th>max</th>\n    </tr>\n  </thead>\n  <tbody>\n    <tr>\n      <th>Store</th>\n      <td>1115.0</td>\n      <td>558.000000</td>\n      <td>322.017080</td>\n      <td>1.0</td>\n      <td>279.5</td>\n      <td>558.0</td>\n      <td>836.5</td>\n      <td>1115.0</td>\n    </tr>\n    <tr>\n      <th>CompetitionDistance</th>\n      <td>1112.0</td>\n      <td>5404.901079</td>\n      <td>7663.174720</td>\n      <td>20.0</td>\n      <td>717.5</td>\n      <td>2325.0</td>\n      <td>6882.5</td>\n      <td>75860.0</td>\n    </tr>\n    <tr>\n      <th>CompetitionOpenSinceMonth</th>\n      <td>761.0</td>\n      <td>7.224704</td>\n      <td>3.212348</td>\n      <td>1.0</td>\n      <td>4.0</td>\n      <td>8.0</td>\n      <td>10.0</td>\n      <td>12.0</td>\n    </tr>\n    <tr>\n      <th>CompetitionOpenSinceYear</th>\n      <td>761.0</td>\n      <td>2008.668857</td>\n      <td>6.195983</td>\n      <td>1900.0</td>\n      <td>2006.0</td>\n      <td>2010.0</td>\n      <td>2013.0</td>\n      <td>2015.0</td>\n    </tr>\n    <tr>\n      <th>Promo2</th>\n      <td>1115.0</td>\n      <td>0.512108</td>\n      <td>0.500078</td>\n      <td>0.0</td>\n      <td>0.0</td>\n      <td>1.0</td>\n      <td>1.0</td>\n      <td>1.0</td>\n    </tr>\n    <tr>\n      <th>Promo2SinceWeek</th>\n      <td>571.0</td>\n      <td>23.595447</td>\n      <td>14.141984</td>\n      <td>1.0</td>\n      <td>13.0</td>\n      <td>22.0</td>\n      <td>37.0</td>\n      <td>50.0</td>\n    </tr>\n    <tr>\n      <th>Promo2SinceYear</th>\n      <td>571.0</td>\n      <td>2011.763573</td>\n      <td>1.674935</td>\n      <td>2009.0</td>\n      <td>2011.0</td>\n      <td>2012.0</td>\n      <td>2013.0</td>\n      <td>2015.0</td>\n    </tr>\n  </tbody>\n</table>\n</div>"
     },
     "metadata": {},
     "execution_count": 11
    }
   ],
   "source": [
    "store.describe().T"
   ]
  },
  {
   "source": [
    "Store in train but not in store"
   ],
   "cell_type": "markdown",
   "metadata": {}
  },
  {
   "cell_type": "code",
   "execution_count": 12,
   "metadata": {},
   "outputs": [
    {
     "output_type": "execute_result",
     "data": {
      "text/plain": [
       "set()"
      ]
     },
     "metadata": {},
     "execution_count": 12
    }
   ],
   "source": [
    "set(train.Store) - set(store.Store)"
   ]
  },
  {
   "cell_type": "code",
   "execution_count": 13,
   "metadata": {},
   "outputs": [
    {
     "output_type": "execute_result",
     "data": {
      "text/plain": [
       "set()"
      ]
     },
     "metadata": {},
     "execution_count": 13
    }
   ],
   "source": [
    "set(test.Store) - set(store.Store)"
   ]
  },
  {
   "source": [
    "Check for missing Values"
   ],
   "cell_type": "markdown",
   "metadata": {}
  },
  {
   "cell_type": "code",
   "execution_count": 14,
   "metadata": {},
   "outputs": [
    {
     "output_type": "execute_result",
     "data": {
      "text/plain": [
       "Store            0\n",
       "DayOfWeek        0\n",
       "Date             0\n",
       "Sales            0\n",
       "Customers        0\n",
       "Open             0\n",
       "Promo            0\n",
       "StateHoliday     0\n",
       "SchoolHoliday    0\n",
       "dtype: int64"
      ]
     },
     "metadata": {},
     "execution_count": 14
    }
   ],
   "source": [
    "train.isna().sum()"
   ]
  },
  {
   "cell_type": "code",
   "execution_count": 16,
   "metadata": {},
   "outputs": [
    {
     "output_type": "execute_result",
     "data": {
      "text/plain": [
       "Id                0\n",
       "Store             0\n",
       "DayOfWeek         0\n",
       "Date              0\n",
       "Open             11\n",
       "Promo             0\n",
       "StateHoliday      0\n",
       "SchoolHoliday     0\n",
       "dtype: int64"
      ]
     },
     "metadata": {},
     "execution_count": 16
    }
   ],
   "source": [
    "test.isna().sum()"
   ]
  },
  {
   "cell_type": "code",
   "execution_count": 17,
   "metadata": {},
   "outputs": [
    {
     "output_type": "execute_result",
     "data": {
      "text/plain": [
       "   Store  DayOfWeek        Date  Sales  Customers  Open  Promo StateHoliday  \\\n",
       "0      1          5  2015-07-31   5263        555     1      1            0   \n",
       "1      2          5  2015-07-31   6064        625     1      1            0   \n",
       "2      3          5  2015-07-31   8314        821     1      1            0   \n",
       "3      4          5  2015-07-31  13995       1498     1      1            0   \n",
       "4      5          5  2015-07-31   4822        559     1      1            0   \n",
       "\n",
       "   SchoolHoliday  \n",
       "0              1  \n",
       "1              1  \n",
       "2              1  \n",
       "3              1  \n",
       "4              1  "
      ],
      "text/html": "<div>\n<style scoped>\n    .dataframe tbody tr th:only-of-type {\n        vertical-align: middle;\n    }\n\n    .dataframe tbody tr th {\n        vertical-align: top;\n    }\n\n    .dataframe thead th {\n        text-align: right;\n    }\n</style>\n<table border=\"1\" class=\"dataframe\">\n  <thead>\n    <tr style=\"text-align: right;\">\n      <th></th>\n      <th>Store</th>\n      <th>DayOfWeek</th>\n      <th>Date</th>\n      <th>Sales</th>\n      <th>Customers</th>\n      <th>Open</th>\n      <th>Promo</th>\n      <th>StateHoliday</th>\n      <th>SchoolHoliday</th>\n    </tr>\n  </thead>\n  <tbody>\n    <tr>\n      <th>0</th>\n      <td>1</td>\n      <td>5</td>\n      <td>2015-07-31</td>\n      <td>5263</td>\n      <td>555</td>\n      <td>1</td>\n      <td>1</td>\n      <td>0</td>\n      <td>1</td>\n    </tr>\n    <tr>\n      <th>1</th>\n      <td>2</td>\n      <td>5</td>\n      <td>2015-07-31</td>\n      <td>6064</td>\n      <td>625</td>\n      <td>1</td>\n      <td>1</td>\n      <td>0</td>\n      <td>1</td>\n    </tr>\n    <tr>\n      <th>2</th>\n      <td>3</td>\n      <td>5</td>\n      <td>2015-07-31</td>\n      <td>8314</td>\n      <td>821</td>\n      <td>1</td>\n      <td>1</td>\n      <td>0</td>\n      <td>1</td>\n    </tr>\n    <tr>\n      <th>3</th>\n      <td>4</td>\n      <td>5</td>\n      <td>2015-07-31</td>\n      <td>13995</td>\n      <td>1498</td>\n      <td>1</td>\n      <td>1</td>\n      <td>0</td>\n      <td>1</td>\n    </tr>\n    <tr>\n      <th>4</th>\n      <td>5</td>\n      <td>5</td>\n      <td>2015-07-31</td>\n      <td>4822</td>\n      <td>559</td>\n      <td>1</td>\n      <td>1</td>\n      <td>0</td>\n      <td>1</td>\n    </tr>\n  </tbody>\n</table>\n</div>"
     },
     "metadata": {},
     "execution_count": 17
    }
   ],
   "source": [
    "train.head()"
   ]
  },
  {
   "cell_type": "code",
   "execution_count": 19,
   "metadata": {},
   "outputs": [
    {
     "output_type": "execute_result",
     "data": {
      "text/plain": [
       "   Store StoreType Assortment  CompetitionDistance  CompetitionOpenSinceMonth  \\\n",
       "0      1         c          a               1270.0                        9.0   \n",
       "1      2         a          a                570.0                       11.0   \n",
       "2      3         a          a              14130.0                       12.0   \n",
       "3      4         c          c                620.0                        9.0   \n",
       "4      5         a          a              29910.0                        4.0   \n",
       "\n",
       "   CompetitionOpenSinceYear  Promo2  Promo2SinceWeek  Promo2SinceYear  \\\n",
       "0                    2008.0       0              NaN              NaN   \n",
       "1                    2007.0       1             13.0           2010.0   \n",
       "2                    2006.0       1             14.0           2011.0   \n",
       "3                    2009.0       0              NaN              NaN   \n",
       "4                    2015.0       0              NaN              NaN   \n",
       "\n",
       "     PromoInterval  \n",
       "0              NaN  \n",
       "1  Jan,Apr,Jul,Oct  \n",
       "2  Jan,Apr,Jul,Oct  \n",
       "3              NaN  \n",
       "4              NaN  "
      ],
      "text/html": "<div>\n<style scoped>\n    .dataframe tbody tr th:only-of-type {\n        vertical-align: middle;\n    }\n\n    .dataframe tbody tr th {\n        vertical-align: top;\n    }\n\n    .dataframe thead th {\n        text-align: right;\n    }\n</style>\n<table border=\"1\" class=\"dataframe\">\n  <thead>\n    <tr style=\"text-align: right;\">\n      <th></th>\n      <th>Store</th>\n      <th>StoreType</th>\n      <th>Assortment</th>\n      <th>CompetitionDistance</th>\n      <th>CompetitionOpenSinceMonth</th>\n      <th>CompetitionOpenSinceYear</th>\n      <th>Promo2</th>\n      <th>Promo2SinceWeek</th>\n      <th>Promo2SinceYear</th>\n      <th>PromoInterval</th>\n    </tr>\n  </thead>\n  <tbody>\n    <tr>\n      <th>0</th>\n      <td>1</td>\n      <td>c</td>\n      <td>a</td>\n      <td>1270.0</td>\n      <td>9.0</td>\n      <td>2008.0</td>\n      <td>0</td>\n      <td>NaN</td>\n      <td>NaN</td>\n      <td>NaN</td>\n    </tr>\n    <tr>\n      <th>1</th>\n      <td>2</td>\n      <td>a</td>\n      <td>a</td>\n      <td>570.0</td>\n      <td>11.0</td>\n      <td>2007.0</td>\n      <td>1</td>\n      <td>13.0</td>\n      <td>2010.0</td>\n      <td>Jan,Apr,Jul,Oct</td>\n    </tr>\n    <tr>\n      <th>2</th>\n      <td>3</td>\n      <td>a</td>\n      <td>a</td>\n      <td>14130.0</td>\n      <td>12.0</td>\n      <td>2006.0</td>\n      <td>1</td>\n      <td>14.0</td>\n      <td>2011.0</td>\n      <td>Jan,Apr,Jul,Oct</td>\n    </tr>\n    <tr>\n      <th>3</th>\n      <td>4</td>\n      <td>c</td>\n      <td>c</td>\n      <td>620.0</td>\n      <td>9.0</td>\n      <td>2009.0</td>\n      <td>0</td>\n      <td>NaN</td>\n      <td>NaN</td>\n      <td>NaN</td>\n    </tr>\n    <tr>\n      <th>4</th>\n      <td>5</td>\n      <td>a</td>\n      <td>a</td>\n      <td>29910.0</td>\n      <td>4.0</td>\n      <td>2015.0</td>\n      <td>0</td>\n      <td>NaN</td>\n      <td>NaN</td>\n      <td>NaN</td>\n    </tr>\n  </tbody>\n</table>\n</div>"
     },
     "metadata": {},
     "execution_count": 19
    }
   ],
   "source": [
    "store.head()"
   ]
  },
  {
   "cell_type": "code",
   "execution_count": 30,
   "metadata": {},
   "outputs": [
    {
     "output_type": "execute_result",
     "data": {
      "text/plain": [
       "Store                          0\n",
       "StoreType                      0\n",
       "Assortment                     0\n",
       "CompetitionDistance            3\n",
       "CompetitionOpenSinceMonth      0\n",
       "CompetitionOpenSinceYear       0\n",
       "Promo2                         0\n",
       "Promo2SinceWeek                0\n",
       "Promo2SinceYear                0\n",
       "PromoInterval                544\n",
       "dtype: int64"
      ]
     },
     "metadata": {},
     "execution_count": 30
    }
   ],
   "source": [
    "store.isna().sum()"
   ]
  },
  {
   "cell_type": "code",
   "execution_count": 35,
   "metadata": {},
   "outputs": [],
   "source": [
    "#CompetitionOpenSinceMonth    \n",
    "store.CompetitionOpenSinceMonth.unique()\n",
    "store.CompetitionOpenSinceMonth.fillna(0,inplace=True)\n",
    "store.CompetitionDistance.fillna(-1,inplace=True)"
   ]
  },
  {
   "cell_type": "code",
   "execution_count": 36,
   "metadata": {},
   "outputs": [
    {
     "output_type": "display_data",
     "data": {
      "text/plain": "array([2008., 2007., 2006., 2009., 2015., 2013., 2014., 2000., 2011.,\n          0., 2010., 2005., 1999., 2003., 2012., 2004., 2002., 1961.,\n       1995., 2001., 1990., 1994., 1900., 1998.])"
     },
     "metadata": {}
    }
   ],
   "source": [
    "display(store.CompetitionOpenSinceYear.unique())\n",
    "store.CompetitionOpenSinceYear.fillna(0,inplace=True)"
   ]
  },
  {
   "cell_type": "code",
   "execution_count": 37,
   "metadata": {},
   "outputs": [],
   "source": [
    "store.Promo2SinceWeek.fillna(-1,inplace=True)\n",
    "store.Promo2SinceYear.fillna(0,inplace=True)\n",
    "store.PromoInterval.fillna(0,inplace=True)"
   ]
  },
  {
   "cell_type": "code",
   "execution_count": null,
   "metadata": {},
   "outputs": [],
   "source": []
  },
  {
   "cell_type": "code",
   "execution_count": 38,
   "metadata": {},
   "outputs": [
    {
     "output_type": "stream",
     "name": "stdout",
     "text": [
      "(1017209, 9)\n(41088, 8)\n"
     ]
    }
   ],
   "source": [
    "trains = train.merge(store,on='Store',how='left')\n",
    "tests = test.merge(store, on = 'Store',how='left')\n",
    "\n",
    "print(train.shape)\n",
    "print(test.shape)"
   ]
  },
  {
   "cell_type": "code",
   "execution_count": 42,
   "metadata": {},
   "outputs": [
    {
     "output_type": "execute_result",
     "data": {
      "text/plain": [
       "Id                            0\n",
       "Store                         0\n",
       "DayOfWeek                     0\n",
       "Date                          0\n",
       "Open                         11\n",
       "Promo                         0\n",
       "StateHoliday                  0\n",
       "SchoolHoliday                 0\n",
       "StoreType                     0\n",
       "Assortment                    0\n",
       "CompetitionDistance           0\n",
       "CompetitionOpenSinceMonth     0\n",
       "CompetitionOpenSinceYear      0\n",
       "Promo2                        0\n",
       "Promo2SinceWeek               0\n",
       "Promo2SinceYear               0\n",
       "PromoInterval                 0\n",
       "dtype: int64"
      ]
     },
     "metadata": {},
     "execution_count": 42
    }
   ],
   "source": [
    "tests.isna().sum()"
   ]
  },
  {
   "cell_type": "code",
   "execution_count": null,
   "metadata": {},
   "outputs": [],
   "source": []
  },
  {
   "cell_type": "code",
   "execution_count": 43,
   "metadata": {},
   "outputs": [],
   "source": [
    "X = trains.drop('Sales',axis=1)\n",
    "y = trains.Sales"
   ]
  },
  {
   "cell_type": "code",
   "execution_count": 44,
   "metadata": {},
   "outputs": [
    {
     "output_type": "execute_result",
     "data": {
      "text/plain": [
       "   Store  DayOfWeek        Date  Customers  Open  Promo StateHoliday  \\\n",
       "0      1          5  2015-07-31        555     1      1            0   \n",
       "1      2          5  2015-07-31        625     1      1            0   \n",
       "2      3          5  2015-07-31        821     1      1            0   \n",
       "3      4          5  2015-07-31       1498     1      1            0   \n",
       "4      5          5  2015-07-31        559     1      1            0   \n",
       "\n",
       "   SchoolHoliday StoreType Assortment  CompetitionDistance  \\\n",
       "0              1         c          a               1270.0   \n",
       "1              1         a          a                570.0   \n",
       "2              1         a          a              14130.0   \n",
       "3              1         c          c                620.0   \n",
       "4              1         a          a              29910.0   \n",
       "\n",
       "   CompetitionOpenSinceMonth  CompetitionOpenSinceYear  Promo2  \\\n",
       "0                        9.0                    2008.0       0   \n",
       "1                       11.0                    2007.0       1   \n",
       "2                       12.0                    2006.0       1   \n",
       "3                        9.0                    2009.0       0   \n",
       "4                        4.0                    2015.0       0   \n",
       "\n",
       "   Promo2SinceWeek  Promo2SinceYear    PromoInterval  \n",
       "0             -1.0              0.0                0  \n",
       "1             13.0           2010.0  Jan,Apr,Jul,Oct  \n",
       "2             14.0           2011.0  Jan,Apr,Jul,Oct  \n",
       "3             -1.0              0.0                0  \n",
       "4             -1.0              0.0                0  "
      ],
      "text/html": "<div>\n<style scoped>\n    .dataframe tbody tr th:only-of-type {\n        vertical-align: middle;\n    }\n\n    .dataframe tbody tr th {\n        vertical-align: top;\n    }\n\n    .dataframe thead th {\n        text-align: right;\n    }\n</style>\n<table border=\"1\" class=\"dataframe\">\n  <thead>\n    <tr style=\"text-align: right;\">\n      <th></th>\n      <th>Store</th>\n      <th>DayOfWeek</th>\n      <th>Date</th>\n      <th>Customers</th>\n      <th>Open</th>\n      <th>Promo</th>\n      <th>StateHoliday</th>\n      <th>SchoolHoliday</th>\n      <th>StoreType</th>\n      <th>Assortment</th>\n      <th>CompetitionDistance</th>\n      <th>CompetitionOpenSinceMonth</th>\n      <th>CompetitionOpenSinceYear</th>\n      <th>Promo2</th>\n      <th>Promo2SinceWeek</th>\n      <th>Promo2SinceYear</th>\n      <th>PromoInterval</th>\n    </tr>\n  </thead>\n  <tbody>\n    <tr>\n      <th>0</th>\n      <td>1</td>\n      <td>5</td>\n      <td>2015-07-31</td>\n      <td>555</td>\n      <td>1</td>\n      <td>1</td>\n      <td>0</td>\n      <td>1</td>\n      <td>c</td>\n      <td>a</td>\n      <td>1270.0</td>\n      <td>9.0</td>\n      <td>2008.0</td>\n      <td>0</td>\n      <td>-1.0</td>\n      <td>0.0</td>\n      <td>0</td>\n    </tr>\n    <tr>\n      <th>1</th>\n      <td>2</td>\n      <td>5</td>\n      <td>2015-07-31</td>\n      <td>625</td>\n      <td>1</td>\n      <td>1</td>\n      <td>0</td>\n      <td>1</td>\n      <td>a</td>\n      <td>a</td>\n      <td>570.0</td>\n      <td>11.0</td>\n      <td>2007.0</td>\n      <td>1</td>\n      <td>13.0</td>\n      <td>2010.0</td>\n      <td>Jan,Apr,Jul,Oct</td>\n    </tr>\n    <tr>\n      <th>2</th>\n      <td>3</td>\n      <td>5</td>\n      <td>2015-07-31</td>\n      <td>821</td>\n      <td>1</td>\n      <td>1</td>\n      <td>0</td>\n      <td>1</td>\n      <td>a</td>\n      <td>a</td>\n      <td>14130.0</td>\n      <td>12.0</td>\n      <td>2006.0</td>\n      <td>1</td>\n      <td>14.0</td>\n      <td>2011.0</td>\n      <td>Jan,Apr,Jul,Oct</td>\n    </tr>\n    <tr>\n      <th>3</th>\n      <td>4</td>\n      <td>5</td>\n      <td>2015-07-31</td>\n      <td>1498</td>\n      <td>1</td>\n      <td>1</td>\n      <td>0</td>\n      <td>1</td>\n      <td>c</td>\n      <td>c</td>\n      <td>620.0</td>\n      <td>9.0</td>\n      <td>2009.0</td>\n      <td>0</td>\n      <td>-1.0</td>\n      <td>0.0</td>\n      <td>0</td>\n    </tr>\n    <tr>\n      <th>4</th>\n      <td>5</td>\n      <td>5</td>\n      <td>2015-07-31</td>\n      <td>559</td>\n      <td>1</td>\n      <td>1</td>\n      <td>0</td>\n      <td>1</td>\n      <td>a</td>\n      <td>a</td>\n      <td>29910.0</td>\n      <td>4.0</td>\n      <td>2015.0</td>\n      <td>0</td>\n      <td>-1.0</td>\n      <td>0.0</td>\n      <td>0</td>\n    </tr>\n  </tbody>\n</table>\n</div>"
     },
     "metadata": {},
     "execution_count": 44
    }
   ],
   "source": [
    "X.head()"
   ]
  },
  {
   "cell_type": "code",
   "execution_count": 45,
   "metadata": {},
   "outputs": [
    {
     "output_type": "execute_result",
     "data": {
      "text/plain": [
       "array([ 1., nan,  0.])"
      ]
     },
     "metadata": {},
     "execution_count": 45
    }
   ],
   "source": []
  },
  {
   "cell_type": "code",
   "execution_count": null,
   "metadata": {},
   "outputs": [],
   "source": []
  }
 ]
}